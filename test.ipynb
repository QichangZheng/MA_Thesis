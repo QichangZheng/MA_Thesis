{
 "cells": [
  {
   "cell_type": "code",
   "execution_count": null,
   "id": "initial_id",
   "metadata": {
    "collapsed": true
   },
   "outputs": [],
   "source": [
    "import qichang\n",
    "import requests\n",
    "import pandas as pd\n",
    "from tqdm import tqdm"
   ]
  },
  {
   "cell_type": "code",
   "outputs": [],
   "source": [
    "stock_lst = [\"AAPL\", \"GOOGL\", \"AMZN\", \"MSFT\", \"TSLA\", \"META\", \"NVDA\", \"PYPL\", \"NFLX\"]\n",
    "start_date = \"2023-06-01\"\n",
    "end_date = \"2024-03-20\""
   ],
   "metadata": {
    "collapsed": false,
    "ExecuteTime": {
     "end_time": "2024-03-30T22:17:42.537817100Z",
     "start_time": "2024-03-30T22:17:42.531817900Z"
    }
   },
   "id": "424af194f2acc8f7",
   "execution_count": 35
  },
  {
   "cell_type": "code",
   "outputs": [],
   "source": [
    "llm = qichang.LLM_API()"
   ],
   "metadata": {
    "collapsed": false
   },
   "id": "c2481cd835161cc6",
   "execution_count": null
  },
  {
   "cell_type": "code",
   "outputs": [],
   "source": [
    "prompt0 = \"\"\"\n",
    "You are a stock analyst, and your task is to predict the stock price of {}. You can only request the stock price from {} to {}, then you need to predict the moving direction of this stock in next week based on the information provided. You MUST select and return your answer among [up, down], DO NOT return any other answer. For example: down\n",
    "\"\"\""
   ],
   "metadata": {
    "collapsed": false,
    "ExecuteTime": {
     "end_time": "2024-03-31T00:00:44.144412600Z",
     "start_time": "2024-03-31T00:00:44.120901400Z"
    }
   },
   "id": "b52b75aba5d79645",
   "execution_count": 38
  },
  {
   "cell_type": "code",
   "outputs": [],
   "source": [
    "prompt1 = \"\"\"\n",
    "You are a stock analyst, and your task is to predict the stock price of {}. You can request the stock price and stock news data from {} to {}, then you need to predict the moving direction of this stock in next week based on the information provided. You MUST select and return your answer among [up, down], DO NOT return any other answer. For example: down\n",
    "\"\"\""
   ],
   "metadata": {
    "collapsed": false
   },
   "id": "442367c994d09b71",
   "execution_count": null
  },
  {
   "cell_type": "code",
   "outputs": [],
   "source": [],
   "metadata": {
    "collapsed": false
   },
   "id": "434bc10d6144795b"
  },
  {
   "cell_type": "code",
   "outputs": [],
   "source": [
    "yf_address = 'http://api.qichangzheng.net/yfinance_api'"
   ],
   "metadata": {
    "collapsed": false,
    "ExecuteTime": {
     "end_time": "2024-03-31T00:00:47.412695700Z",
     "start_time": "2024-03-31T00:00:47.405695600Z"
    }
   },
   "id": "84995a7f120c20d5",
   "execution_count": 39
  },
  {
   "cell_type": "code",
   "outputs": [],
   "source": [
    "res = requests.post(yf_address, json={'tickers': stock_lst, 'start_date': start_date, 'end_date': end_date})"
   ],
   "metadata": {
    "collapsed": false,
    "ExecuteTime": {
     "end_time": "2024-03-31T00:00:48.174764400Z",
     "start_time": "2024-03-31T00:00:47.787492400Z"
    }
   },
   "id": "a5214e519a422c9a",
   "execution_count": 40
  },
  {
   "cell_type": "code",
   "outputs": [],
   "source": [
    "data = res.json()['price_data']\n",
    "\n",
    "# Iterate through the dictionary to transform the data\n",
    "rows = [{**{'date': date}, **{ticker: prices[date] for ticker, prices in data.items()}} for date in data['AAPL']]\n",
    "\n",
    "# Convert the list of dictionaries into a DataFrame\n",
    "df = pd.DataFrame(rows)"
   ],
   "metadata": {
    "collapsed": false,
    "ExecuteTime": {
     "end_time": "2024-03-31T00:00:48.185476600Z",
     "start_time": "2024-03-31T00:00:48.174764400Z"
    }
   },
   "id": "42b9810bcc8f5aa9",
   "execution_count": 41
  },
  {
   "cell_type": "code",
   "outputs": [],
   "source": [
    "# resample the date to weekly\n",
    "df['date'] = pd.to_datetime(df['date'])\n",
    "df.set_index('date', inplace=True)\n",
    "df = df.resample('W').mean()\n",
    "df.reset_index(inplace=True)"
   ],
   "metadata": {
    "collapsed": false,
    "ExecuteTime": {
     "end_time": "2024-03-31T00:00:49.753131700Z",
     "start_time": "2024-03-31T00:00:49.746624100Z"
    }
   },
   "id": "8a15f64b96025fd",
   "execution_count": 42
  },
  {
   "cell_type": "code",
   "outputs": [],
   "source": [
    "date = df['date'].tolist()"
   ],
   "metadata": {
    "collapsed": false,
    "ExecuteTime": {
     "end_time": "2024-03-31T00:00:51.051114600Z",
     "start_time": "2024-03-31T00:00:51.041606Z"
    }
   },
   "id": "f913841d99f24edd",
   "execution_count": 43
  },
  {
   "cell_type": "code",
   "outputs": [
    {
     "name": "stderr",
     "output_type": "stream",
     "text": [
      "100%|██████████| 42/42 [06:23<00:00,  9.12s/it]\n",
      "100%|██████████| 42/42 [05:41<00:00,  8.13s/it]\n",
      "100%|██████████| 42/42 [04:04<00:00,  5.83s/it]\n",
      "100%|██████████| 42/42 [06:15<00:00,  8.94s/it]\n",
      "100%|██████████| 42/42 [05:09<00:00,  7.36s/it]\n",
      "100%|██████████| 42/42 [07:05<00:00, 10.13s/it]\n",
      "100%|██████████| 42/42 [05:32<00:00,  7.91s/it]\n",
      "100%|██████████| 42/42 [05:51<00:00,  8.37s/it]\n",
      "100%|██████████| 42/42 [05:03<00:00,  7.22s/it]\n"
     ]
    }
   ],
   "source": [
    "result = {}\n",
    "for company in stock_lst:\n",
    "    result[company] = []\n",
    "    for i in tqdm(range(len(date)-1)):\n",
    "        start_date = date[i].strftime('%Y-%m-%d')\n",
    "        end_date = date[i+1].strftime('%Y-%m-%d')\n",
    "        pmt = prompt0.format(company, start_date, end_date)\n",
    "        while True:\n",
    "            res = llm.chat('stock_api', pmt, timeout=30)\n",
    "            if res in ['up', 'down']:\n",
    "                break\n",
    "        result[company].append(res)"
   ],
   "metadata": {
    "collapsed": false,
    "ExecuteTime": {
     "end_time": "2024-03-31T00:52:09.943348300Z",
     "start_time": "2024-03-31T00:01:03.422343100Z"
    }
   },
   "id": "6b5723950f5470b0",
   "execution_count": 44
  },
  {
   "cell_type": "code",
   "outputs": [],
   "source": [
    "# create a dataframe to store the result\n",
    "result_df = pd.DataFrame(result)\n",
    "result_df['date'] = date[1:]\n",
    "result_df.set_index('date', inplace=True)\n"
   ],
   "metadata": {
    "collapsed": false,
    "ExecuteTime": {
     "end_time": "2024-03-31T04:11:01.819656100Z",
     "start_time": "2024-03-31T04:11:01.790129100Z"
    }
   },
   "id": "76c9d1fbee1b6798",
   "execution_count": 57
  },
  {
   "cell_type": "code",
   "outputs": [
    {
     "data": {
      "text/plain": "            AAPL GOOGL  AMZN  MSFT  TSLA  META  NVDA  PYPL  NFLX\ndate                                                            \n2023-06-11    up  down    up    up    up    up    up    up    up\n2023-06-18    up    up    up    up    up    up    up    up    up\n2023-06-25    up    up    up    up  down    up  down    up  down\n2023-07-02    up    up    up    up    up    up    up    up    up\n2023-07-09    up    up    up    up  down    up    up    up  down\n2023-07-16    up    up    up    up    up    up    up    up    up\n2023-07-23  down  down    up    up  down    up  down    up  down\n2023-07-30    up    up    up    up    up    up    up    up    up\n2023-08-06  down  down    up  down  down  down  down  down  down\n2023-08-13    up  down    up  down  down  down  down  down  down\n2023-08-20  down  down  down  down  down  down  down  down  down\n2023-08-27    up    up    up    up    up    up    up    up    up\n2023-09-03    up    up    up    up    up    up    up    up    up\n2023-09-10  down    up    up    up  down  down  down  down  down\n2023-09-17    up    up    up    up    up    up    up    up  down\n2023-09-24    up  down  down  down  down  down  down  down  down\n2023-10-01  down    up    up    up    up    up    up    up  down\n2023-10-08    up    up    up    up    up    up    up    up    up\n2023-10-15    up    up    up    up  down    up    up  down  down\n2023-10-22  down  down  down  down  down  down  down  down    up\n2023-10-29  down  down    up    up  down  down  down  down  down\n2023-11-05    up    up    up    up    up    up    up    up    up\n2023-11-12    up    up    up    up  down    up    up    up    up\n2023-11-19    up    up    up    up    up    up    up    up    up\n2023-11-26  down    up    up    up    up    up  down    up    up\n2023-12-03    up  down    up  down  down  down  down    up  down\n2023-12-10    up    up    up    up    up    up    up    up    up\n2023-12-17    up    up    up    up    up    up    up    up    up\n2023-12-24  down    up    up    up    up    up    up    up    up\n2023-12-31    up  down  down    up  down    up    up    up  down\n2024-01-07  down    up  down  down  down    up    up    up    up\n2024-01-14    up    up    up    up  down    up    up    up    up\n2024-01-21    up    up    up    up  down    up    up    up    up\n2024-01-28  down    up    up    up  down    up    up  down    up\n2024-02-04    up  down    up    up  down    up    up    up    up\n2024-02-11    up    up    up    up    up    up    up  down    up\n2024-02-18  down  down    up  down    up    up    up    up    up\n2024-02-25    up    up    up    up    up    up    up    up    up\n2024-03-03  down    up    up    up    up    up    up    up    up\n2024-03-10    up    up    up    up  down    up    up    up    up\n2024-03-17    up    up    up    up  down    up    up    up    up\n2024-03-24    up    up    up    up    up    up    up    up    up",
      "text/html": "<div>\n<style scoped>\n    .dataframe tbody tr th:only-of-type {\n        vertical-align: middle;\n    }\n\n    .dataframe tbody tr th {\n        vertical-align: top;\n    }\n\n    .dataframe thead th {\n        text-align: right;\n    }\n</style>\n<table border=\"1\" class=\"dataframe\">\n  <thead>\n    <tr style=\"text-align: right;\">\n      <th></th>\n      <th>AAPL</th>\n      <th>GOOGL</th>\n      <th>AMZN</th>\n      <th>MSFT</th>\n      <th>TSLA</th>\n      <th>META</th>\n      <th>NVDA</th>\n      <th>PYPL</th>\n      <th>NFLX</th>\n    </tr>\n    <tr>\n      <th>date</th>\n      <th></th>\n      <th></th>\n      <th></th>\n      <th></th>\n      <th></th>\n      <th></th>\n      <th></th>\n      <th></th>\n      <th></th>\n    </tr>\n  </thead>\n  <tbody>\n    <tr>\n      <th>2023-06-11</th>\n      <td>up</td>\n      <td>down</td>\n      <td>up</td>\n      <td>up</td>\n      <td>up</td>\n      <td>up</td>\n      <td>up</td>\n      <td>up</td>\n      <td>up</td>\n    </tr>\n    <tr>\n      <th>2023-06-18</th>\n      <td>up</td>\n      <td>up</td>\n      <td>up</td>\n      <td>up</td>\n      <td>up</td>\n      <td>up</td>\n      <td>up</td>\n      <td>up</td>\n      <td>up</td>\n    </tr>\n    <tr>\n      <th>2023-06-25</th>\n      <td>up</td>\n      <td>up</td>\n      <td>up</td>\n      <td>up</td>\n      <td>down</td>\n      <td>up</td>\n      <td>down</td>\n      <td>up</td>\n      <td>down</td>\n    </tr>\n    <tr>\n      <th>2023-07-02</th>\n      <td>up</td>\n      <td>up</td>\n      <td>up</td>\n      <td>up</td>\n      <td>up</td>\n      <td>up</td>\n      <td>up</td>\n      <td>up</td>\n      <td>up</td>\n    </tr>\n    <tr>\n      <th>2023-07-09</th>\n      <td>up</td>\n      <td>up</td>\n      <td>up</td>\n      <td>up</td>\n      <td>down</td>\n      <td>up</td>\n      <td>up</td>\n      <td>up</td>\n      <td>down</td>\n    </tr>\n    <tr>\n      <th>2023-07-16</th>\n      <td>up</td>\n      <td>up</td>\n      <td>up</td>\n      <td>up</td>\n      <td>up</td>\n      <td>up</td>\n      <td>up</td>\n      <td>up</td>\n      <td>up</td>\n    </tr>\n    <tr>\n      <th>2023-07-23</th>\n      <td>down</td>\n      <td>down</td>\n      <td>up</td>\n      <td>up</td>\n      <td>down</td>\n      <td>up</td>\n      <td>down</td>\n      <td>up</td>\n      <td>down</td>\n    </tr>\n    <tr>\n      <th>2023-07-30</th>\n      <td>up</td>\n      <td>up</td>\n      <td>up</td>\n      <td>up</td>\n      <td>up</td>\n      <td>up</td>\n      <td>up</td>\n      <td>up</td>\n      <td>up</td>\n    </tr>\n    <tr>\n      <th>2023-08-06</th>\n      <td>down</td>\n      <td>down</td>\n      <td>up</td>\n      <td>down</td>\n      <td>down</td>\n      <td>down</td>\n      <td>down</td>\n      <td>down</td>\n      <td>down</td>\n    </tr>\n    <tr>\n      <th>2023-08-13</th>\n      <td>up</td>\n      <td>down</td>\n      <td>up</td>\n      <td>down</td>\n      <td>down</td>\n      <td>down</td>\n      <td>down</td>\n      <td>down</td>\n      <td>down</td>\n    </tr>\n    <tr>\n      <th>2023-08-20</th>\n      <td>down</td>\n      <td>down</td>\n      <td>down</td>\n      <td>down</td>\n      <td>down</td>\n      <td>down</td>\n      <td>down</td>\n      <td>down</td>\n      <td>down</td>\n    </tr>\n    <tr>\n      <th>2023-08-27</th>\n      <td>up</td>\n      <td>up</td>\n      <td>up</td>\n      <td>up</td>\n      <td>up</td>\n      <td>up</td>\n      <td>up</td>\n      <td>up</td>\n      <td>up</td>\n    </tr>\n    <tr>\n      <th>2023-09-03</th>\n      <td>up</td>\n      <td>up</td>\n      <td>up</td>\n      <td>up</td>\n      <td>up</td>\n      <td>up</td>\n      <td>up</td>\n      <td>up</td>\n      <td>up</td>\n    </tr>\n    <tr>\n      <th>2023-09-10</th>\n      <td>down</td>\n      <td>up</td>\n      <td>up</td>\n      <td>up</td>\n      <td>down</td>\n      <td>down</td>\n      <td>down</td>\n      <td>down</td>\n      <td>down</td>\n    </tr>\n    <tr>\n      <th>2023-09-17</th>\n      <td>up</td>\n      <td>up</td>\n      <td>up</td>\n      <td>up</td>\n      <td>up</td>\n      <td>up</td>\n      <td>up</td>\n      <td>up</td>\n      <td>down</td>\n    </tr>\n    <tr>\n      <th>2023-09-24</th>\n      <td>up</td>\n      <td>down</td>\n      <td>down</td>\n      <td>down</td>\n      <td>down</td>\n      <td>down</td>\n      <td>down</td>\n      <td>down</td>\n      <td>down</td>\n    </tr>\n    <tr>\n      <th>2023-10-01</th>\n      <td>down</td>\n      <td>up</td>\n      <td>up</td>\n      <td>up</td>\n      <td>up</td>\n      <td>up</td>\n      <td>up</td>\n      <td>up</td>\n      <td>down</td>\n    </tr>\n    <tr>\n      <th>2023-10-08</th>\n      <td>up</td>\n      <td>up</td>\n      <td>up</td>\n      <td>up</td>\n      <td>up</td>\n      <td>up</td>\n      <td>up</td>\n      <td>up</td>\n      <td>up</td>\n    </tr>\n    <tr>\n      <th>2023-10-15</th>\n      <td>up</td>\n      <td>up</td>\n      <td>up</td>\n      <td>up</td>\n      <td>down</td>\n      <td>up</td>\n      <td>up</td>\n      <td>down</td>\n      <td>down</td>\n    </tr>\n    <tr>\n      <th>2023-10-22</th>\n      <td>down</td>\n      <td>down</td>\n      <td>down</td>\n      <td>down</td>\n      <td>down</td>\n      <td>down</td>\n      <td>down</td>\n      <td>down</td>\n      <td>up</td>\n    </tr>\n    <tr>\n      <th>2023-10-29</th>\n      <td>down</td>\n      <td>down</td>\n      <td>up</td>\n      <td>up</td>\n      <td>down</td>\n      <td>down</td>\n      <td>down</td>\n      <td>down</td>\n      <td>down</td>\n    </tr>\n    <tr>\n      <th>2023-11-05</th>\n      <td>up</td>\n      <td>up</td>\n      <td>up</td>\n      <td>up</td>\n      <td>up</td>\n      <td>up</td>\n      <td>up</td>\n      <td>up</td>\n      <td>up</td>\n    </tr>\n    <tr>\n      <th>2023-11-12</th>\n      <td>up</td>\n      <td>up</td>\n      <td>up</td>\n      <td>up</td>\n      <td>down</td>\n      <td>up</td>\n      <td>up</td>\n      <td>up</td>\n      <td>up</td>\n    </tr>\n    <tr>\n      <th>2023-11-19</th>\n      <td>up</td>\n      <td>up</td>\n      <td>up</td>\n      <td>up</td>\n      <td>up</td>\n      <td>up</td>\n      <td>up</td>\n      <td>up</td>\n      <td>up</td>\n    </tr>\n    <tr>\n      <th>2023-11-26</th>\n      <td>down</td>\n      <td>up</td>\n      <td>up</td>\n      <td>up</td>\n      <td>up</td>\n      <td>up</td>\n      <td>down</td>\n      <td>up</td>\n      <td>up</td>\n    </tr>\n    <tr>\n      <th>2023-12-03</th>\n      <td>up</td>\n      <td>down</td>\n      <td>up</td>\n      <td>down</td>\n      <td>down</td>\n      <td>down</td>\n      <td>down</td>\n      <td>up</td>\n      <td>down</td>\n    </tr>\n    <tr>\n      <th>2023-12-10</th>\n      <td>up</td>\n      <td>up</td>\n      <td>up</td>\n      <td>up</td>\n      <td>up</td>\n      <td>up</td>\n      <td>up</td>\n      <td>up</td>\n      <td>up</td>\n    </tr>\n    <tr>\n      <th>2023-12-17</th>\n      <td>up</td>\n      <td>up</td>\n      <td>up</td>\n      <td>up</td>\n      <td>up</td>\n      <td>up</td>\n      <td>up</td>\n      <td>up</td>\n      <td>up</td>\n    </tr>\n    <tr>\n      <th>2023-12-24</th>\n      <td>down</td>\n      <td>up</td>\n      <td>up</td>\n      <td>up</td>\n      <td>up</td>\n      <td>up</td>\n      <td>up</td>\n      <td>up</td>\n      <td>up</td>\n    </tr>\n    <tr>\n      <th>2023-12-31</th>\n      <td>up</td>\n      <td>down</td>\n      <td>down</td>\n      <td>up</td>\n      <td>down</td>\n      <td>up</td>\n      <td>up</td>\n      <td>up</td>\n      <td>down</td>\n    </tr>\n    <tr>\n      <th>2024-01-07</th>\n      <td>down</td>\n      <td>up</td>\n      <td>down</td>\n      <td>down</td>\n      <td>down</td>\n      <td>up</td>\n      <td>up</td>\n      <td>up</td>\n      <td>up</td>\n    </tr>\n    <tr>\n      <th>2024-01-14</th>\n      <td>up</td>\n      <td>up</td>\n      <td>up</td>\n      <td>up</td>\n      <td>down</td>\n      <td>up</td>\n      <td>up</td>\n      <td>up</td>\n      <td>up</td>\n    </tr>\n    <tr>\n      <th>2024-01-21</th>\n      <td>up</td>\n      <td>up</td>\n      <td>up</td>\n      <td>up</td>\n      <td>down</td>\n      <td>up</td>\n      <td>up</td>\n      <td>up</td>\n      <td>up</td>\n    </tr>\n    <tr>\n      <th>2024-01-28</th>\n      <td>down</td>\n      <td>up</td>\n      <td>up</td>\n      <td>up</td>\n      <td>down</td>\n      <td>up</td>\n      <td>up</td>\n      <td>down</td>\n      <td>up</td>\n    </tr>\n    <tr>\n      <th>2024-02-04</th>\n      <td>up</td>\n      <td>down</td>\n      <td>up</td>\n      <td>up</td>\n      <td>down</td>\n      <td>up</td>\n      <td>up</td>\n      <td>up</td>\n      <td>up</td>\n    </tr>\n    <tr>\n      <th>2024-02-11</th>\n      <td>up</td>\n      <td>up</td>\n      <td>up</td>\n      <td>up</td>\n      <td>up</td>\n      <td>up</td>\n      <td>up</td>\n      <td>down</td>\n      <td>up</td>\n    </tr>\n    <tr>\n      <th>2024-02-18</th>\n      <td>down</td>\n      <td>down</td>\n      <td>up</td>\n      <td>down</td>\n      <td>up</td>\n      <td>up</td>\n      <td>up</td>\n      <td>up</td>\n      <td>up</td>\n    </tr>\n    <tr>\n      <th>2024-02-25</th>\n      <td>up</td>\n      <td>up</td>\n      <td>up</td>\n      <td>up</td>\n      <td>up</td>\n      <td>up</td>\n      <td>up</td>\n      <td>up</td>\n      <td>up</td>\n    </tr>\n    <tr>\n      <th>2024-03-03</th>\n      <td>down</td>\n      <td>up</td>\n      <td>up</td>\n      <td>up</td>\n      <td>up</td>\n      <td>up</td>\n      <td>up</td>\n      <td>up</td>\n      <td>up</td>\n    </tr>\n    <tr>\n      <th>2024-03-10</th>\n      <td>up</td>\n      <td>up</td>\n      <td>up</td>\n      <td>up</td>\n      <td>down</td>\n      <td>up</td>\n      <td>up</td>\n      <td>up</td>\n      <td>up</td>\n    </tr>\n    <tr>\n      <th>2024-03-17</th>\n      <td>up</td>\n      <td>up</td>\n      <td>up</td>\n      <td>up</td>\n      <td>down</td>\n      <td>up</td>\n      <td>up</td>\n      <td>up</td>\n      <td>up</td>\n    </tr>\n    <tr>\n      <th>2024-03-24</th>\n      <td>up</td>\n      <td>up</td>\n      <td>up</td>\n      <td>up</td>\n      <td>up</td>\n      <td>up</td>\n      <td>up</td>\n      <td>up</td>\n      <td>up</td>\n    </tr>\n  </tbody>\n</table>\n</div>"
     },
     "execution_count": 58,
     "metadata": {},
     "output_type": "execute_result"
    }
   ],
   "source": [
    "result_df"
   ],
   "metadata": {
    "collapsed": false,
    "ExecuteTime": {
     "end_time": "2024-03-31T04:11:03.660894300Z",
     "start_time": "2024-03-31T04:11:03.646895300Z"
    }
   },
   "id": "8c8de4c0e3bbaf9",
   "execution_count": 58
  },
  {
   "cell_type": "code",
   "outputs": [],
   "source": [
    "result_df.to_csv('GPT4_0.csv')"
   ],
   "metadata": {
    "collapsed": false,
    "ExecuteTime": {
     "end_time": "2024-03-31T04:11:07.317658900Z",
     "start_time": "2024-03-31T04:11:07.305009500Z"
    }
   },
   "id": "96deb39460f7b871",
   "execution_count": 59
  },
  {
   "cell_type": "code",
   "outputs": [],
   "source": [
    "result_df = pd.read_csv('GPT4_0.csv')"
   ],
   "metadata": {
    "collapsed": false,
    "ExecuteTime": {
     "end_time": "2024-03-31T06:02:10.814501200Z",
     "start_time": "2024-03-31T06:02:10.790501300Z"
    }
   },
   "id": "2d5345686864f1f1",
   "execution_count": 113
  },
  {
   "cell_type": "code",
   "outputs": [],
   "source": [
    "# remove the last row\n",
    "result_df = result_df.iloc[1:]"
   ],
   "metadata": {
    "collapsed": false,
    "ExecuteTime": {
     "end_time": "2024-03-31T06:02:11.879540Z",
     "start_time": "2024-03-31T06:02:11.864502700Z"
    }
   },
   "id": "bb21ef0f668673a8",
   "execution_count": 114
  },
  {
   "cell_type": "code",
   "outputs": [],
   "source": [
    "len(result_df)"
   ],
   "metadata": {
    "collapsed": false
   },
   "id": "250f0bfdd64182a8",
   "execution_count": null
  },
  {
   "cell_type": "code",
   "outputs": [],
   "source": [
    "df"
   ],
   "metadata": {
    "collapsed": false
   },
   "id": "3acfa0fc4c9f844f",
   "execution_count": null
  },
  {
   "cell_type": "code",
   "outputs": [],
   "source": [
    "returns"
   ],
   "metadata": {
    "collapsed": false
   },
   "id": "a8458a558cef2e81",
   "execution_count": 0
  },
  {
   "cell_type": "code",
   "outputs": [
    {
     "name": "stdout",
     "output_type": "stream",
     "text": [
      "Accuracy Rates:\n",
      "AAPL: 0.4634\n",
      "AMZN: 0.6098\n",
      "GOOGL: 0.3659\n",
      "META: 0.6098\n",
      "MSFT: 0.5854\n",
      "NFLX: 0.5610\n",
      "NVDA: 0.6585\n",
      "PYPL: 0.6341\n",
      "TSLA: 0.5854\n",
      "\n",
      "F1 Scores:\n",
      "AAPL: 0.4453\n",
      "AMZN: 0.5474\n",
      "GOOGL: 0.3301\n",
      "META: 0.5761\n",
      "MSFT: 0.5469\n",
      "NFLX: 0.5548\n",
      "NVDA: 0.6502\n",
      "PYPL: 0.6084\n",
      "TSLA: 0.5854\n",
      "\n",
      "Confusion Matrices:\n",
      "AAPL:\n",
      "[[14  8]\n",
      " [14  5]]\n",
      "AMZN:\n",
      "[[24  4]\n",
      " [12  1]]\n",
      "GOOGL:\n",
      "[[13  9]\n",
      " [17  2]]\n",
      "META:\n",
      "[[22  5]\n",
      " [11  3]]\n",
      "MSFT:\n",
      "[[21  5]\n",
      " [12  3]]\n",
      "NFLX:\n",
      "[[17  8]\n",
      " [10  6]]\n",
      "NVDA:\n",
      "[[22  6]\n",
      " [ 8  5]]\n",
      "PYPL:\n",
      "[[19  3]\n",
      " [12  7]]\n",
      "TSLA:\n",
      "[[12  9]\n",
      " [ 8 12]]\n"
     ]
    },
    {
     "name": "stderr",
     "output_type": "stream",
     "text": [
      "C:\\Users\\Administrator\\AppData\\Local\\Temp\\ipykernel_86964\\82333195.py:18: FutureWarning: DataFrame.applymap has been deprecated. Use DataFrame.map instead.\n",
      "  actual_movements = returns.applymap(categorize_movement)\n"
     ]
    }
   ],
   "source": [
    "import pandas as pd\n",
    "import numpy as np\n",
    "from sklearn.metrics import confusion_matrix\n",
    "from sklearn.metrics import f1_score, accuracy_score\n",
    "\n",
    "# Assuming df and result_df are already defined\n",
    "# Calculate daily returns for the tickers\n",
    "returns = df.set_index('date').pct_change().dropna()\n",
    "\n",
    "# Define the function to categorize the movement based on percentage change\n",
    "def categorize_movement(x):\n",
    "    if x >= 0:\n",
    "        return 'up'\n",
    "    elif x < 0:\n",
    "        return 'down'\n",
    "\n",
    "# Apply categorization to returns to create the actual movement DataFrame\n",
    "actual_movements = returns.applymap(categorize_movement)\n",
    "\n",
    "# Align the actual_movements DataFrame with the result_df by dropping the first and last rows\n",
    "actual_movements = actual_movements.iloc[:-1]\n",
    "\n",
    "# Initialize dictionaries to hold the results\n",
    "sharpe_ratios = {}\n",
    "confusion_matrices = {}\n",
    "accuracy_scores = {}\n",
    "f1_scores = {}\n",
    "\n",
    "for ticker in returns.columns:\n",
    "    # Calculate Sharpe Ratio\n",
    "    mean_return = returns[ticker].mean()\n",
    "    sd_return = returns[ticker].std()\n",
    "    sharpe_ratio = mean_return / sd_return\n",
    "    sharpe_ratios[ticker] = sharpe_ratio\n",
    "    \n",
    "    # Calculate Confusion Matrix\n",
    "    y_true = actual_movements[ticker]\n",
    "    y_pred = result_df[ticker]\n",
    "    cm = confusion_matrix(y_true, y_pred, labels=['up', 'down'])\n",
    "    confusion_matrices[ticker] = cm\n",
    "    \n",
    "    # Calculate Accuracy Rate\n",
    "    accuracy = accuracy_score(y_true, y_pred)\n",
    "    f1 = f1_score(y_true, y_pred, labels=['up', 'down'], average='weighted')\n",
    "\n",
    "    accuracy_scores[ticker] = accuracy\n",
    "    f1_scores[ticker] = f1\n",
    "\n",
    "# Initialize dictionaries to hold the accuracy and F1 score\n",
    "\n",
    "# Print the results\n",
    "print(\"Accuracy Rates:\")\n",
    "for ticker, acc in accuracy_scores.items():\n",
    "    print(f\"{ticker}: {acc:.4f}\")\n",
    "\n",
    "print(\"\\nF1 Scores:\")\n",
    "for ticker, f1 in f1_scores.items():\n",
    "    print(f\"{ticker}: {f1:.4f}\")\n",
    "\n",
    "# Print the Confusion Matrices\n",
    "print(\"\\nConfusion Matrices:\")\n",
    "for ticker, cm in confusion_matrices.items():\n",
    "    print(f\"{ticker}:\\n{cm}\")\n"
   ],
   "metadata": {
    "collapsed": false,
    "ExecuteTime": {
     "end_time": "2024-03-31T06:12:33.353736100Z",
     "start_time": "2024-03-31T06:12:33.319859700Z"
    }
   },
   "id": "df7e98dfbd7b857c",
   "execution_count": 117
  },
  {
   "cell_type": "code",
   "outputs": [
    {
     "name": "stdout",
     "output_type": "stream",
     "text": [
      "Accuracy Rates:\n",
      "AAPL: 0.4634\n",
      "AMZN: 0.6098\n",
      "GOOGL: 0.3659\n",
      "META: 0.6098\n",
      "MSFT: 0.5854\n",
      "NFLX: 0.5610\n",
      "NVDA: 0.6585\n",
      "PYPL: 0.6341\n",
      "TSLA: 0.5854\n",
      "\n",
      "F1 Scores:\n",
      "AAPL: 0.4453\n",
      "AMZN: 0.5474\n",
      "GOOGL: 0.3301\n",
      "META: 0.5761\n",
      "MSFT: 0.5469\n",
      "NFLX: 0.5548\n",
      "NVDA: 0.6502\n",
      "PYPL: 0.6084\n",
      "TSLA: 0.5854\n",
      "\n",
      "Confusion Matrices:\n",
      "AAPL:\n",
      "[[14  8]\n",
      " [14  5]]\n",
      "AMZN:\n",
      "[[24  4]\n",
      " [12  1]]\n",
      "GOOGL:\n",
      "[[13  9]\n",
      " [17  2]]\n",
      "META:\n",
      "[[22  5]\n",
      " [11  3]]\n",
      "MSFT:\n",
      "[[21  5]\n",
      " [12  3]]\n",
      "NFLX:\n",
      "[[17  8]\n",
      " [10  6]]\n",
      "NVDA:\n",
      "[[22  6]\n",
      " [ 8  5]]\n",
      "PYPL:\n",
      "[[19  3]\n",
      " [12  7]]\n",
      "TSLA:\n",
      "[[12  9]\n",
      " [ 8 12]]\n"
     ]
    },
    {
     "name": "stderr",
     "output_type": "stream",
     "text": [
      "C:\\Users\\Administrator\\AppData\\Local\\Temp\\ipykernel_86964\\82333195.py:18: FutureWarning: DataFrame.applymap has been deprecated. Use DataFrame.map instead.\n",
      "  actual_movements = returns.applymap(categorize_movement)\n"
     ]
    }
   ],
   "source": [
    "import pandas as pd\n",
    "import numpy as np\n",
    "from sklearn.metrics import confusion_matrix\n",
    "from sklearn.metrics import f1_score, accuracy_score\n",
    "\n",
    "# Assuming df and result_df are already defined\n",
    "# Calculate daily returns for the tickers\n",
    "returns = df.set_index('date').pct_change().dropna()\n",
    "\n",
    "# Define the function to categorize the movement based on percentage change\n",
    "def categorize_movement(x):\n",
    "    if x >= 0:\n",
    "        return 'up'\n",
    "    elif x < 0:\n",
    "        return 'down'\n",
    "\n",
    "# Apply categorization to returns to create the actual movement DataFrame\n",
    "actual_movements = returns.applymap(categorize_movement)\n",
    "\n",
    "# Align the actual_movements DataFrame with the result_df by dropping the first and last rows\n",
    "actual_movements = actual_movements.iloc[:-1]\n",
    "\n",
    "# Initialize dictionaries to hold the results\n",
    "sharpe_ratios = {}\n",
    "confusion_matrices = {}\n",
    "accuracy_scores = {}\n",
    "f1_scores = {}\n",
    "\n",
    "for ticker in returns.columns:\n",
    "    # Calculate Sharpe Ratio\n",
    "    mean_return = returns[ticker].mean()\n",
    "    sd_return = returns[ticker].std()\n",
    "    sharpe_ratio = mean_return / sd_return\n",
    "    sharpe_ratios[ticker] = sharpe_ratio\n",
    "    \n",
    "    # Calculate Confusion Matrix\n",
    "    y_true = actual_movements[ticker]\n",
    "    y_pred = result_df[ticker]\n",
    "    cm = confusion_matrix(y_true, y_pred, labels=['up', 'down'])\n",
    "    confusion_matrices[ticker] = cm\n",
    "    \n",
    "    # Calculate Accuracy Rate\n",
    "    accuracy = accuracy_score(y_true, y_pred)\n",
    "    f1 = f1_score(y_true, y_pred, labels=['up', 'down'], average='weighted')\n",
    "\n",
    "    accuracy_scores[ticker] = accuracy\n",
    "    f1_scores[ticker] = f1\n",
    "\n",
    "# Initialize dictionaries to hold the accuracy and F1 score\n",
    "\n",
    "# Print the results\n",
    "print(\"Accuracy Rates:\")\n",
    "for ticker, acc in accuracy_scores.items():\n",
    "    print(f\"{ticker}: {acc:.4f}\")\n",
    "\n",
    "print(\"\\nF1 Scores:\")\n",
    "for ticker, f1 in f1_scores.items():\n",
    "    print(f\"{ticker}: {f1:.4f}\")\n",
    "\n",
    "# Print the Confusion Matrices\n",
    "print(\"\\nConfusion Matrices:\")\n",
    "for ticker, cm in confusion_matrices.items():\n",
    "    print(f\"{ticker}:\\n{cm}\")\n"
   ],
   "metadata": {
    "collapsed": false,
    "ExecuteTime": {
     "end_time": "2024-03-31T06:11:56.328960800Z",
     "start_time": "2024-03-31T06:11:56.305198700Z"
    }
   },
   "id": "df0b6eb334f80700",
   "execution_count": 116
  },
  {
   "cell_type": "code",
   "outputs": [],
   "source": [
    "len(y_true)"
   ],
   "metadata": {
    "collapsed": false
   },
   "id": "23340b1e7ba583d3",
   "execution_count": null
  },
  {
   "cell_type": "code",
   "outputs": [],
   "source": [
    "len(y_pred)"
   ],
   "metadata": {
    "collapsed": false
   },
   "id": "ee88e0bc13571dae",
   "execution_count": null
  },
  {
   "cell_type": "code",
   "outputs": [],
   "source": [
    "import matplotlib.pyplot as plt\n",
    "import seaborn as sns\n",
    "\n",
    "# Assuming result_df is defined and has 9 tickers\n",
    "tickers = result_df.columns  # Skip 'date' column if it's the first column\n",
    "\n",
    "# Set up the matplotlib figure\n",
    "fig, axes = plt.subplots(3, 3, figsize=(15, 15))\n",
    "fig.suptitle('Distribution of Price Movements for Each Ticker')\n",
    "\n",
    "# Flatten the axes array for easy iteration\n",
    "axes_flat = axes.flatten()\n",
    "\n",
    "for i, ticker in enumerate(tickers):\n",
    "    # Count the occurrences of each category for the current ticker\n",
    "    category_counts = result_df[ticker].value_counts()\n",
    "    \n",
    "    # Plot a bar chart for the current ticker\n",
    "    sns.barplot(x=category_counts.index, y=category_counts.values, ax=axes_flat[i])\n",
    "    axes_flat[i].set_title(ticker)\n",
    "    axes_flat[i].set_ylabel('Count')\n",
    "    axes_flat[i].set_xlabel('Category')\n",
    "\n",
    "# Adjust layout for better readability\n",
    "plt.tight_layout(rect=[0, 0.03, 1, 0.95])\n",
    "\n",
    "# Show the plot\n",
    "plt.show()\n"
   ],
   "metadata": {
    "collapsed": false
   },
   "id": "18096fd165628037",
   "execution_count": null
  },
  {
   "cell_type": "code",
   "outputs": [],
   "source": [
    "# plot the price\n",
    "fig, axes = plt.subplots(3, 3, figsize=(15, 15))\n",
    "fig.suptitle('Price Movement for Each Ticker')\n",
    "\n",
    "# Flatten the axes array for easy iteration\n",
    "axes_flat = axes.flatten()\n",
    "\n",
    "for i, ticker in enumerate(tickers):\n",
    "    # Count the occurrences of each category for the current ticker\n",
    "    category_counts = df[ticker]\n",
    "    \n",
    "    # Plot a bar chart for the current ticker\n",
    "    sns.lineplot(x=df['date'], y=category_counts, ax=axes_flat[i])\n",
    "    axes_flat[i].set_title(ticker)\n",
    "    axes_flat[i].set_ylabel('Price')\n",
    "    axes_flat[i].set_xlabel('Date')\n",
    "    \n",
    "# Adjust layout for better readability, make the vertical space between subplots larger\n",
    "plt.tight_layout(rect=[0, 0.03, 1, 0.95], h_pad=4)\n",
    "\n",
    "# adjust the x-axis label to make it more readable\n",
    "for ax in axes_flat:\n",
    "    for label in ax.get_xticklabels():\n",
    "        label.set_rotation(45)\n",
    "\n",
    "# Show the plot\n",
    "plt.show()"
   ],
   "metadata": {
    "collapsed": false
   },
   "id": "92dfbc1401603a50",
   "execution_count": null
  },
  {
   "cell_type": "code",
   "outputs": [
    {
     "data": {
      "text/plain": "Index(['AAPL', 'GOOGL', 'AMZN', 'MSFT', 'TSLA', 'META', 'NVDA', 'PYPL',\n       'NFLX'],\n      dtype='object')"
     },
     "execution_count": 26,
     "metadata": {},
     "output_type": "execute_result"
    }
   ],
   "source": [
    "tickers"
   ],
   "metadata": {
    "collapsed": false,
    "ExecuteTime": {
     "end_time": "2024-03-30T22:13:35.739435Z",
     "start_time": "2024-03-30T22:13:35.717925100Z"
    }
   },
   "id": "58a64e4e8566b96d",
   "execution_count": 26
  },
  {
   "cell_type": "code",
   "outputs": [
    {
     "name": "stdout",
     "output_type": "stream",
     "text": [
      "[*********************100%%**********************]  1 of 1 completed\n",
      "Sharpe Ratio: 0.23607807214538062\n",
      "Information Ratio: 0.25527200015020957\n"
     ]
    }
   ],
   "source": [
    "import yfinance as yf\n",
    "\n",
    "# Fetch S&P 500 index data\n",
    "sp500_data = yf.download('^GSPC', start=start_date, end=end_date)\n",
    "\n",
    "# Resample S&P 500 data to weekly, assuming we align on Fridays\n",
    "sp500_weekly_returns = sp500_data['Adj Close'].resample('W-FRI').last().pct_change().dropna()\n",
    "\n",
    "# Function to calculate portfolio returns based on 'up'/'down'/'stable' signals\n",
    "def portfolio_returns(returns, predictions):\n",
    "    portfolio_returns = pd.Series(0, index=returns.index)\n",
    "    for ticker in returns.columns:\n",
    "        ticker_predictions = predictions[ticker].shift(-1)  # Adjusted as per previous fix\n",
    "        weighted_returns = returns[ticker] * ticker_predictions.map({'up': 1, 'down': -1, 'stable': 0}).fillna(0)\n",
    "        portfolio_returns += weighted_returns\n",
    "    portfolio_returns /= len(returns.columns)\n",
    "    return portfolio_returns\n",
    "\n",
    "# Assuming df and result_df are already preprocessed and aligned correctly\n",
    "# Convert the 'date' columns to datetime if they are not already\n",
    "df['date'] = pd.to_datetime(df['date'])\n",
    "result_df['date'] = pd.to_datetime(result_df['date'])\n",
    "\n",
    "# Set 'date' as the index and calculate weekly returns for the stocks\n",
    "weekly_returns = df.set_index('date').pct_change().dropna()\n",
    "\n",
    "# Align and prepare the predictions in result_df\n",
    "result_df.set_index('date', inplace=True)\n",
    "\n",
    "# Calculate actual portfolio returns\n",
    "actual_portfolio_returns = portfolio_returns(weekly_returns, result_df)\n",
    "\n",
    "# Align the index of SP500 returns with the portfolio returns\n",
    "sp500_weekly_returns = sp500_weekly_returns.reindex(actual_portfolio_returns.index).fillna(0)\n",
    "\n",
    "# Assume a risk-free rate (annualized, convert to weekly)\n",
    "risk_free_rate = 0.02 / 52\n",
    "\n",
    "# Calculate Sharpe Ratio\n",
    "portfolio_excess_returns_over_risk_free = actual_portfolio_returns - risk_free_rate\n",
    "sharpe_ratio = portfolio_excess_returns_over_risk_free.mean() / portfolio_excess_returns_over_risk_free.std()\n",
    "\n",
    "# Calculate Information Ratio\n",
    "excess_returns_over_benchmark = actual_portfolio_returns - sp500_weekly_returns\n",
    "information_ratio = excess_returns_over_benchmark.mean() / excess_returns_over_benchmark.std()\n",
    "\n",
    "print(f\"Sharpe Ratio: {sharpe_ratio}\")\n",
    "print(f\"Information Ratio: {information_ratio}\")"
   ],
   "metadata": {
    "collapsed": false,
    "ExecuteTime": {
     "end_time": "2024-03-31T05:44:21.551606100Z",
     "start_time": "2024-03-31T05:44:21.283441700Z"
    }
   },
   "id": "88ac5cb8c25fb1d9",
   "execution_count": 102
  },
  {
   "cell_type": "code",
   "outputs": [],
   "source": [
    "result_df['date'] = result_df.index\n",
    "result_df.reset_index(drop=True, inplace=True)"
   ],
   "metadata": {
    "collapsed": false,
    "ExecuteTime": {
     "end_time": "2024-03-31T05:42:07.058961500Z",
     "start_time": "2024-03-31T05:42:07.033672800Z"
    }
   },
   "id": "fa5fff986370e7b3",
   "execution_count": 92
  },
  {
   "cell_type": "code",
   "outputs": [],
   "source": [],
   "metadata": {
    "collapsed": false
   },
   "id": "d496ddc1bfbf9276"
  },
  {
   "cell_type": "code",
   "outputs": [
    {
     "name": "stdout",
     "output_type": "stream",
     "text": [
      "[*********************100%%**********************]  1 of 1 completed\n",
      "Sharpe Ratio: 0.2920021997986978\n",
      "Information Ratio: 0.30903635418517006\n"
     ]
    }
   ],
   "source": [
    "import yfinance as yf\n",
    "\n",
    "# Fetch S&P 500 index data\n",
    "sp500_data = yf.download('^GSPC', start=start_date, end=end_date)\n",
    "\n",
    "# Resample S&P 500 data to weekly, assuming we align on Fridays\n",
    "sp500_weekly_returns = sp500_data['Adj Close'].resample('W-FRI').last().pct_change().dropna()\n",
    "\n",
    "# Function to calculate portfolio returns based on 'up'/'down'/'stable' signals\n",
    "def portfolio_returns(returns, predictions):\n",
    "    portfolio_returns = pd.Series(0, index=returns.index)\n",
    "    for ticker in returns.columns:\n",
    "        ticker_predictions = predictions[ticker].shift(-1)  # Adjusted as per previous fix\n",
    "        weighted_returns = returns[ticker] * ticker_predictions.map({'up': 1, 'down': -1, 'stable': 0}).fillna(0)\n",
    "        portfolio_returns += weighted_returns\n",
    "    portfolio_returns /= len(returns.columns)\n",
    "    return portfolio_returns\n",
    "\n",
    "# Assuming df and result_df are already preprocessed and aligned correctly\n",
    "# Convert the 'date' columns to datetime if they are not already\n",
    "df['date'] = pd.to_datetime(df['date'])\n",
    "result_df['date'] = pd.to_datetime(result_df['date'])\n",
    "\n",
    "# Set 'date' as the index and calculate weekly returns for the stocks\n",
    "weekly_returns = df.set_index('date').pct_change().dropna()\n",
    "\n",
    "# Align and prepare the predictions in result_df\n",
    "result_df.set_index('date', inplace=True)\n",
    "\n",
    "# Calculate actual portfolio returns\n",
    "actual_portfolio_returns = portfolio_returns(weekly_returns, result_df)\n",
    "\n",
    "# Align the index of SP500 returns with the portfolio returns\n",
    "sp500_weekly_returns = sp500_weekly_returns.reindex(actual_portfolio_returns.index).fillna(0)\n",
    "\n",
    "# Assume a risk-free rate (annualized, convert to weekly)\n",
    "risk_free_rate = 0.02 / 52\n",
    "\n",
    "# Calculate Sharpe Ratio\n",
    "portfolio_excess_returns_over_risk_free = actual_portfolio_returns - risk_free_rate\n",
    "sharpe_ratio = portfolio_excess_returns_over_risk_free.mean() / portfolio_excess_returns_over_risk_free.std()\n",
    "\n",
    "# Calculate Information Ratio\n",
    "excess_returns_over_benchmark = actual_portfolio_returns - sp500_weekly_returns\n",
    "information_ratio = excess_returns_over_benchmark.mean() / excess_returns_over_benchmark.std()\n",
    "\n",
    "print(f\"Sharpe Ratio: {sharpe_ratio}\")\n",
    "print(f\"Information Ratio: {information_ratio}\")"
   ],
   "metadata": {
    "collapsed": false,
    "ExecuteTime": {
     "end_time": "2024-03-31T05:43:28.881316600Z",
     "start_time": "2024-03-31T05:43:28.517393300Z"
    }
   },
   "id": "38f6aa2e8c70c5aa",
   "execution_count": 97
  },
  {
   "cell_type": "code",
   "outputs": [
    {
     "name": "stdout",
     "output_type": "stream",
     "text": [
      "[*********************100%%**********************]  1 of 1 completed\n"
     ]
    }
   ],
   "source": [
    "raw_data = yf.download (tickers = \"^GSPC\", start = \"1994-01-07\", \n",
    "                              end = \"2019-09-01\", interval = \"1d\")"
   ],
   "metadata": {
    "collapsed": false,
    "ExecuteTime": {
     "end_time": "2024-03-30T22:17:05.980034600Z",
     "start_time": "2024-03-30T22:17:05.484371600Z"
    }
   },
   "id": "64fe28520da25b95",
   "execution_count": 31
  },
  {
   "cell_type": "code",
   "outputs": [
    {
     "data": {
      "text/plain": "                   Open         High          Low        Close    Adj Close  \\\nDate                                                                          \n1994-01-07   467.089996   470.260010   467.029999   469.899994   469.899994   \n1994-01-10   469.899994   475.269989   469.549988   475.269989   475.269989   \n1994-01-11   475.269989   475.279999   473.269989   474.130005   474.130005   \n1994-01-12   474.130005   475.059998   472.140015   474.170013   474.170013   \n1994-01-13   474.170013   474.170013   471.799988   472.470001   472.470001   \n...                 ...          ...          ...          ...          ...   \n2019-08-26  2866.699951  2879.270020  2856.000000  2878.379883  2878.379883   \n2019-08-27  2893.139893  2898.790039  2860.590088  2869.159912  2869.159912   \n2019-08-28  2861.280029  2890.030029  2853.050049  2887.939941  2887.939941   \n2019-08-29  2910.370117  2930.500000  2905.669922  2924.580078  2924.580078   \n2019-08-30  2937.090088  2940.429932  2913.320068  2926.459961  2926.459961   \n\n                Volume  \nDate                    \n1994-01-07   324920000  \n1994-01-10   319490000  \n1994-01-11   305490000  \n1994-01-12   310690000  \n1994-01-13   277970000  \n...                ...  \n2019-08-26  2859790000  \n2019-08-27  3537490000  \n2019-08-28  3102480000  \n2019-08-29  3177150000  \n2019-08-30  3009910000  \n\n[6458 rows x 6 columns]",
      "text/html": "<div>\n<style scoped>\n    .dataframe tbody tr th:only-of-type {\n        vertical-align: middle;\n    }\n\n    .dataframe tbody tr th {\n        vertical-align: top;\n    }\n\n    .dataframe thead th {\n        text-align: right;\n    }\n</style>\n<table border=\"1\" class=\"dataframe\">\n  <thead>\n    <tr style=\"text-align: right;\">\n      <th></th>\n      <th>Open</th>\n      <th>High</th>\n      <th>Low</th>\n      <th>Close</th>\n      <th>Adj Close</th>\n      <th>Volume</th>\n    </tr>\n    <tr>\n      <th>Date</th>\n      <th></th>\n      <th></th>\n      <th></th>\n      <th></th>\n      <th></th>\n      <th></th>\n    </tr>\n  </thead>\n  <tbody>\n    <tr>\n      <th>1994-01-07</th>\n      <td>467.089996</td>\n      <td>470.260010</td>\n      <td>467.029999</td>\n      <td>469.899994</td>\n      <td>469.899994</td>\n      <td>324920000</td>\n    </tr>\n    <tr>\n      <th>1994-01-10</th>\n      <td>469.899994</td>\n      <td>475.269989</td>\n      <td>469.549988</td>\n      <td>475.269989</td>\n      <td>475.269989</td>\n      <td>319490000</td>\n    </tr>\n    <tr>\n      <th>1994-01-11</th>\n      <td>475.269989</td>\n      <td>475.279999</td>\n      <td>473.269989</td>\n      <td>474.130005</td>\n      <td>474.130005</td>\n      <td>305490000</td>\n    </tr>\n    <tr>\n      <th>1994-01-12</th>\n      <td>474.130005</td>\n      <td>475.059998</td>\n      <td>472.140015</td>\n      <td>474.170013</td>\n      <td>474.170013</td>\n      <td>310690000</td>\n    </tr>\n    <tr>\n      <th>1994-01-13</th>\n      <td>474.170013</td>\n      <td>474.170013</td>\n      <td>471.799988</td>\n      <td>472.470001</td>\n      <td>472.470001</td>\n      <td>277970000</td>\n    </tr>\n    <tr>\n      <th>...</th>\n      <td>...</td>\n      <td>...</td>\n      <td>...</td>\n      <td>...</td>\n      <td>...</td>\n      <td>...</td>\n    </tr>\n    <tr>\n      <th>2019-08-26</th>\n      <td>2866.699951</td>\n      <td>2879.270020</td>\n      <td>2856.000000</td>\n      <td>2878.379883</td>\n      <td>2878.379883</td>\n      <td>2859790000</td>\n    </tr>\n    <tr>\n      <th>2019-08-27</th>\n      <td>2893.139893</td>\n      <td>2898.790039</td>\n      <td>2860.590088</td>\n      <td>2869.159912</td>\n      <td>2869.159912</td>\n      <td>3537490000</td>\n    </tr>\n    <tr>\n      <th>2019-08-28</th>\n      <td>2861.280029</td>\n      <td>2890.030029</td>\n      <td>2853.050049</td>\n      <td>2887.939941</td>\n      <td>2887.939941</td>\n      <td>3102480000</td>\n    </tr>\n    <tr>\n      <th>2019-08-29</th>\n      <td>2910.370117</td>\n      <td>2930.500000</td>\n      <td>2905.669922</td>\n      <td>2924.580078</td>\n      <td>2924.580078</td>\n      <td>3177150000</td>\n    </tr>\n    <tr>\n      <th>2019-08-30</th>\n      <td>2937.090088</td>\n      <td>2940.429932</td>\n      <td>2913.320068</td>\n      <td>2926.459961</td>\n      <td>2926.459961</td>\n      <td>3009910000</td>\n    </tr>\n  </tbody>\n</table>\n<p>6458 rows × 6 columns</p>\n</div>"
     },
     "execution_count": 32,
     "metadata": {},
     "output_type": "execute_result"
    }
   ],
   "source": [
    "raw_data"
   ],
   "metadata": {
    "collapsed": false,
    "ExecuteTime": {
     "end_time": "2024-03-30T22:17:07.456058600Z",
     "start_time": "2024-03-30T22:17:07.428056Z"
    }
   },
   "id": "7b841015c5505d0a",
   "execution_count": 32
  },
  {
   "cell_type": "code",
   "outputs": [],
   "source": [],
   "metadata": {
    "collapsed": false
   },
   "id": "369de5150e277158"
  }
 ],
 "metadata": {
  "kernelspec": {
   "display_name": "Python 3",
   "language": "python",
   "name": "python3"
  },
  "language_info": {
   "codemirror_mode": {
    "name": "ipython",
    "version": 2
   },
   "file_extension": ".py",
   "mimetype": "text/x-python",
   "name": "python",
   "nbconvert_exporter": "python",
   "pygments_lexer": "ipython2",
   "version": "2.7.6"
  }
 },
 "nbformat": 4,
 "nbformat_minor": 5
}
